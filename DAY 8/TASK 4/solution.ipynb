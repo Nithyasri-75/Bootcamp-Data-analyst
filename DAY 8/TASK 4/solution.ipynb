{
 "cells": [
  {
   "cell_type": "code",
   "execution_count": 0,
   "metadata": {
    "application/vnd.databricks.v1+cell": {
     "cellMetadata": {
      "byteLimit": 2048000,
      "rowLimit": 10000
     },
     "inputWidgets": {},
     "nuid": "0c5ce91e-ba31-4760-987b-21fb99b024ef",
     "showTitle": false,
     "tableResultSettingsMap": {},
     "title": ""
    }
   },
   "outputs": [
    {
     "output_type": "display_data",
     "data": {
      "application/vnd.databricks.v1+bamboolib_hint": "{\"pd.DataFrames\": [], \"version\": \"0.0.1\"}",
      "text/plain": []
     },
     "metadata": {},
     "output_type": "display_data"
    }
   ],
   "source": [
    "%python\n",
    "import pandas as pd\n",
    "import matplotlib.pyplot as plt\n",
    "import seaborn as sns"
   ]
  },
  {
   "cell_type": "code",
   "execution_count": 0,
   "metadata": {
    "application/vnd.databricks.v1+cell": {
     "cellMetadata": {
      "byteLimit": 2048000,
      "implicitDf": true,
      "rowLimit": 10000
     },
     "inputWidgets": {},
     "nuid": "9b6229a1-5890-4a73-b9fa-f104547a0253",
     "showTitle": false,
     "tableResultSettingsMap": {},
     "title": ""
    }
   },
   "outputs": [],
   "source": [
    "cell_phones_df = spark.sql(\"SELECT country, Year, cell_phones FROM cell_phones_final_csv\").toPandas()\n",
    "population_df = spark.sql(\"SELECT country, Year, pop FROM pop_final_csv\").toPandas()"
   ]
  },
  {
   "cell_type": "code",
   "execution_count": 0,
   "metadata": {
    "application/vnd.databricks.v1+cell": {
     "cellMetadata": {
      "byteLimit": 2048000,
      "rowLimit": 10000
     },
     "inputWidgets": {},
     "nuid": "4cf7fa00-ffac-4efa-851a-26739bdc7e2d",
     "showTitle": false,
     "tableResultSettingsMap": {},
     "title": ""
    }
   },
   "outputs": [
    {
     "output_type": "display_data",
     "data": {
      "text/html": [
       "<div>\n",
       "<style scoped>\n",
       "    .dataframe tbody tr th:only-of-type {\n",
       "        vertical-align: middle;\n",
       "    }\n",
       "\n",
       "    .dataframe tbody tr th {\n",
       "        vertical-align: top;\n",
       "    }\n",
       "\n",
       "    .dataframe thead th {\n",
       "        text-align: right;\n",
       "    }\n",
       "</style>\n",
       "<table border=\"1\" class=\"dataframe\">\n",
       "  <thead>\n",
       "    <tr style=\"text-align: right;\">\n",
       "      <th></th>\n",
       "      <th>country</th>\n",
       "      <th>Year</th>\n",
       "      <th>cell_phones</th>\n",
       "    </tr>\n",
       "  </thead>\n",
       "  <tbody>\n",
       "    <tr>\n",
       "      <th>0</th>\n",
       "      <td>country</td>\n",
       "      <td>NaN</td>\n",
       "      <td>NaN</td>\n",
       "    </tr>\n",
       "    <tr>\n",
       "      <th>1</th>\n",
       "      <td>Finland</td>\n",
       "      <td>1980.0</td>\n",
       "      <td>23500.0</td>\n",
       "    </tr>\n",
       "    <tr>\n",
       "      <th>2</th>\n",
       "      <td>Finland</td>\n",
       "      <td>1981.0</td>\n",
       "      <td>28300.0</td>\n",
       "    </tr>\n",
       "    <tr>\n",
       "      <th>3</th>\n",
       "      <td>Japan</td>\n",
       "      <td>1981.0</td>\n",
       "      <td>13300.0</td>\n",
       "    </tr>\n",
       "    <tr>\n",
       "      <th>4</th>\n",
       "      <td>Norway</td>\n",
       "      <td>1981.0</td>\n",
       "      <td>1670.0</td>\n",
       "    </tr>\n",
       "  </tbody>\n",
       "</table>\n",
       "</div>"
      ]
     },
     "metadata": {
      "application/vnd.databricks.v1+output": {
       "addedWidgets": {},
       "arguments": {},
       "data": "<div>\n<style scoped>\n    .dataframe tbody tr th:only-of-type {\n        vertical-align: middle;\n    }\n\n    .dataframe tbody tr th {\n        vertical-align: top;\n    }\n\n    .dataframe thead th {\n        text-align: right;\n    }\n</style>\n<table border=\"1\" class=\"dataframe\">\n  <thead>\n    <tr style=\"text-align: right;\">\n      <th></th>\n      <th>country</th>\n      <th>Year</th>\n      <th>cell_phones</th>\n    </tr>\n  </thead>\n  <tbody>\n    <tr>\n      <th>0</th>\n      <td>country</td>\n      <td>NaN</td>\n      <td>NaN</td>\n    </tr>\n    <tr>\n      <th>1</th>\n      <td>Finland</td>\n      <td>1980.0</td>\n      <td>23500.0</td>\n    </tr>\n    <tr>\n      <th>2</th>\n      <td>Finland</td>\n      <td>1981.0</td>\n      <td>28300.0</td>\n    </tr>\n    <tr>\n      <th>3</th>\n      <td>Japan</td>\n      <td>1981.0</td>\n      <td>13300.0</td>\n    </tr>\n    <tr>\n      <th>4</th>\n      <td>Norway</td>\n      <td>1981.0</td>\n      <td>1670.0</td>\n    </tr>\n  </tbody>\n</table>\n</div>",
       "datasetInfos": [],
       "metadata": {},
       "removedWidgets": [],
       "textData": null,
       "type": "htmlSandbox"
      }
     },
     "output_type": "display_data"
    }
   ],
   "source": [
    "%python\n",
    "cell_phones_df.head()"
   ]
  },
  {
   "cell_type": "code",
   "execution_count": 0,
   "metadata": {
    "application/vnd.databricks.v1+cell": {
     "cellMetadata": {
      "byteLimit": 2048000,
      "rowLimit": 10000
     },
     "inputWidgets": {},
     "nuid": "bbd0f032-cd9f-477f-aead-ff54a8f4bc45",
     "showTitle": false,
     "tableResultSettingsMap": {},
     "title": ""
    }
   },
   "outputs": [
    {
     "output_type": "display_data",
     "data": {
      "text/html": [
       "<div>\n",
       "<style scoped>\n",
       "    .dataframe tbody tr th:only-of-type {\n",
       "        vertical-align: middle;\n",
       "    }\n",
       "\n",
       "    .dataframe tbody tr th {\n",
       "        vertical-align: top;\n",
       "    }\n",
       "\n",
       "    .dataframe thead th {\n",
       "        text-align: right;\n",
       "    }\n",
       "</style>\n",
       "<table border=\"1\" class=\"dataframe\">\n",
       "  <thead>\n",
       "    <tr style=\"text-align: right;\">\n",
       "      <th></th>\n",
       "      <th>country</th>\n",
       "      <th>Year</th>\n",
       "      <th>pop</th>\n",
       "    </tr>\n",
       "  </thead>\n",
       "  <tbody>\n",
       "    <tr>\n",
       "      <th>0</th>\n",
       "      <td>country</td>\n",
       "      <td>NaN</td>\n",
       "      <td>NaN</td>\n",
       "    </tr>\n",
       "    <tr>\n",
       "      <th>1</th>\n",
       "      <td>Afghanistan</td>\n",
       "      <td>1800.0</td>\n",
       "      <td>3280000.0</td>\n",
       "    </tr>\n",
       "    <tr>\n",
       "      <th>2</th>\n",
       "      <td>Angola</td>\n",
       "      <td>1800.0</td>\n",
       "      <td>1570000.0</td>\n",
       "    </tr>\n",
       "    <tr>\n",
       "      <th>3</th>\n",
       "      <td>Albania</td>\n",
       "      <td>1800.0</td>\n",
       "      <td>400000.0</td>\n",
       "    </tr>\n",
       "    <tr>\n",
       "      <th>4</th>\n",
       "      <td>Andorra</td>\n",
       "      <td>1800.0</td>\n",
       "      <td>2650.0</td>\n",
       "    </tr>\n",
       "  </tbody>\n",
       "</table>\n",
       "</div>"
      ]
     },
     "metadata": {
      "application/vnd.databricks.v1+output": {
       "addedWidgets": {},
       "arguments": {},
       "data": "<div>\n<style scoped>\n    .dataframe tbody tr th:only-of-type {\n        vertical-align: middle;\n    }\n\n    .dataframe tbody tr th {\n        vertical-align: top;\n    }\n\n    .dataframe thead th {\n        text-align: right;\n    }\n</style>\n<table border=\"1\" class=\"dataframe\">\n  <thead>\n    <tr style=\"text-align: right;\">\n      <th></th>\n      <th>country</th>\n      <th>Year</th>\n      <th>pop</th>\n    </tr>\n  </thead>\n  <tbody>\n    <tr>\n      <th>0</th>\n      <td>country</td>\n      <td>NaN</td>\n      <td>NaN</td>\n    </tr>\n    <tr>\n      <th>1</th>\n      <td>Afghanistan</td>\n      <td>1800.0</td>\n      <td>3280000.0</td>\n    </tr>\n    <tr>\n      <th>2</th>\n      <td>Angola</td>\n      <td>1800.0</td>\n      <td>1570000.0</td>\n    </tr>\n    <tr>\n      <th>3</th>\n      <td>Albania</td>\n      <td>1800.0</td>\n      <td>400000.0</td>\n    </tr>\n    <tr>\n      <th>4</th>\n      <td>Andorra</td>\n      <td>1800.0</td>\n      <td>2650.0</td>\n    </tr>\n  </tbody>\n</table>\n</div>",
       "datasetInfos": [],
       "metadata": {},
       "removedWidgets": [],
       "textData": null,
       "type": "htmlSandbox"
      }
     },
     "output_type": "display_data"
    }
   ],
   "source": [
    "%python\n",
    "population_df.head()"
   ]
  },
  {
   "cell_type": "code",
   "execution_count": 0,
   "metadata": {
    "application/vnd.databricks.v1+cell": {
     "cellMetadata": {
      "byteLimit": 2048000,
      "rowLimit": 10000
     },
     "inputWidgets": {},
     "nuid": "4854008d-506c-4be9-8fb7-2a7bbd676484",
     "showTitle": false,
     "tableResultSettingsMap": {},
     "title": ""
    }
   },
   "outputs": [
    {
     "output_type": "display_data",
     "data": {
      "text/html": [
       "<div>\n",
       "<style scoped>\n",
       "    .dataframe tbody tr th:only-of-type {\n",
       "        vertical-align: middle;\n",
       "    }\n",
       "\n",
       "    .dataframe tbody tr th {\n",
       "        vertical-align: top;\n",
       "    }\n",
       "\n",
       "    .dataframe thead th {\n",
       "        text-align: right;\n",
       "    }\n",
       "</style>\n",
       "<table border=\"1\" class=\"dataframe\">\n",
       "  <thead>\n",
       "    <tr style=\"text-align: right;\">\n",
       "      <th></th>\n",
       "      <th>country</th>\n",
       "      <th>Year</th>\n",
       "      <th>cell_phones</th>\n",
       "      <th>pop</th>\n",
       "    </tr>\n",
       "  </thead>\n",
       "  <tbody>\n",
       "    <tr>\n",
       "      <th>0</th>\n",
       "      <td>country</td>\n",
       "      <td>NaN</td>\n",
       "      <td>NaN</td>\n",
       "      <td>NaN</td>\n",
       "    </tr>\n",
       "    <tr>\n",
       "      <th>1</th>\n",
       "      <td>Finland</td>\n",
       "      <td>1980.0</td>\n",
       "      <td>23500.0</td>\n",
       "      <td>4780000.0</td>\n",
       "    </tr>\n",
       "    <tr>\n",
       "      <th>2</th>\n",
       "      <td>Finland</td>\n",
       "      <td>1981.0</td>\n",
       "      <td>28300.0</td>\n",
       "      <td>4800000.0</td>\n",
       "    </tr>\n",
       "    <tr>\n",
       "      <th>3</th>\n",
       "      <td>Japan</td>\n",
       "      <td>1981.0</td>\n",
       "      <td>13300.0</td>\n",
       "      <td>119000000.0</td>\n",
       "    </tr>\n",
       "    <tr>\n",
       "      <th>4</th>\n",
       "      <td>Norway</td>\n",
       "      <td>1981.0</td>\n",
       "      <td>1670.0</td>\n",
       "      <td>4100000.0</td>\n",
       "    </tr>\n",
       "  </tbody>\n",
       "</table>\n",
       "</div>"
      ]
     },
     "metadata": {
      "application/vnd.databricks.v1+output": {
       "addedWidgets": {},
       "arguments": {},
       "data": "<div>\n<style scoped>\n    .dataframe tbody tr th:only-of-type {\n        vertical-align: middle;\n    }\n\n    .dataframe tbody tr th {\n        vertical-align: top;\n    }\n\n    .dataframe thead th {\n        text-align: right;\n    }\n</style>\n<table border=\"1\" class=\"dataframe\">\n  <thead>\n    <tr style=\"text-align: right;\">\n      <th></th>\n      <th>country</th>\n      <th>Year</th>\n      <th>cell_phones</th>\n      <th>pop</th>\n    </tr>\n  </thead>\n  <tbody>\n    <tr>\n      <th>0</th>\n      <td>country</td>\n      <td>NaN</td>\n      <td>NaN</td>\n      <td>NaN</td>\n    </tr>\n    <tr>\n      <th>1</th>\n      <td>Finland</td>\n      <td>1980.0</td>\n      <td>23500.0</td>\n      <td>4780000.0</td>\n    </tr>\n    <tr>\n      <th>2</th>\n      <td>Finland</td>\n      <td>1981.0</td>\n      <td>28300.0</td>\n      <td>4800000.0</td>\n    </tr>\n    <tr>\n      <th>3</th>\n      <td>Japan</td>\n      <td>1981.0</td>\n      <td>13300.0</td>\n      <td>119000000.0</td>\n    </tr>\n    <tr>\n      <th>4</th>\n      <td>Norway</td>\n      <td>1981.0</td>\n      <td>1670.0</td>\n      <td>4100000.0</td>\n    </tr>\n  </tbody>\n</table>\n</div>",
       "datasetInfos": [],
       "metadata": {},
       "removedWidgets": [],
       "textData": null,
       "type": "htmlSandbox"
      }
     },
     "output_type": "display_data"
    }
   ],
   "source": [
    "%python\n",
    "merged_df = pd.merge(cell_phones_df, population_df, on=['Year', 'country'])\n",
    "merged_df.head()"
   ]
  },
  {
   "cell_type": "code",
   "execution_count": 0,
   "metadata": {
    "application/vnd.databricks.v1+cell": {
     "cellMetadata": {
      "byteLimit": 2048000,
      "rowLimit": 10000
     },
     "inputWidgets": {},
     "nuid": "c4b01f0c-09f5-48b6-82ef-d8c580d08c79",
     "showTitle": false,
     "tableResultSettingsMap": {},
     "title": ""
    }
   },
   "outputs": [
    {
     "output_type": "display_data",
     "data": {
      "text/html": [
       "<div>\n",
       "<style scoped>\n",
       "    .dataframe tbody tr th:only-of-type {\n",
       "        vertical-align: middle;\n",
       "    }\n",
       "\n",
       "    .dataframe tbody tr th {\n",
       "        vertical-align: top;\n",
       "    }\n",
       "\n",
       "    .dataframe thead th {\n",
       "        text-align: right;\n",
       "    }\n",
       "</style>\n",
       "<table border=\"1\" class=\"dataframe\">\n",
       "  <thead>\n",
       "    <tr style=\"text-align: right;\">\n",
       "      <th></th>\n",
       "      <th>country</th>\n",
       "      <th>Year</th>\n",
       "      <th>cell_phones</th>\n",
       "      <th>pop</th>\n",
       "      <th>cell_phones_per_person</th>\n",
       "    </tr>\n",
       "  </thead>\n",
       "  <tbody>\n",
       "    <tr>\n",
       "      <th>0</th>\n",
       "      <td>country</td>\n",
       "      <td>NaN</td>\n",
       "      <td>NaN</td>\n",
       "      <td>NaN</td>\n",
       "      <td>NaN</td>\n",
       "    </tr>\n",
       "    <tr>\n",
       "      <th>1</th>\n",
       "      <td>Finland</td>\n",
       "      <td>1980.0</td>\n",
       "      <td>23500.0</td>\n",
       "      <td>4780000.0</td>\n",
       "      <td>0.004916</td>\n",
       "    </tr>\n",
       "    <tr>\n",
       "      <th>2</th>\n",
       "      <td>Finland</td>\n",
       "      <td>1981.0</td>\n",
       "      <td>28300.0</td>\n",
       "      <td>4800000.0</td>\n",
       "      <td>0.005896</td>\n",
       "    </tr>\n",
       "    <tr>\n",
       "      <th>3</th>\n",
       "      <td>Japan</td>\n",
       "      <td>1981.0</td>\n",
       "      <td>13300.0</td>\n",
       "      <td>119000000.0</td>\n",
       "      <td>0.000112</td>\n",
       "    </tr>\n",
       "    <tr>\n",
       "      <th>4</th>\n",
       "      <td>Norway</td>\n",
       "      <td>1981.0</td>\n",
       "      <td>1670.0</td>\n",
       "      <td>4100000.0</td>\n",
       "      <td>0.000407</td>\n",
       "    </tr>\n",
       "  </tbody>\n",
       "</table>\n",
       "</div>"
      ]
     },
     "metadata": {
      "application/vnd.databricks.v1+output": {
       "addedWidgets": {},
       "arguments": {},
       "data": "<div>\n<style scoped>\n    .dataframe tbody tr th:only-of-type {\n        vertical-align: middle;\n    }\n\n    .dataframe tbody tr th {\n        vertical-align: top;\n    }\n\n    .dataframe thead th {\n        text-align: right;\n    }\n</style>\n<table border=\"1\" class=\"dataframe\">\n  <thead>\n    <tr style=\"text-align: right;\">\n      <th></th>\n      <th>country</th>\n      <th>Year</th>\n      <th>cell_phones</th>\n      <th>pop</th>\n      <th>cell_phones_per_person</th>\n    </tr>\n  </thead>\n  <tbody>\n    <tr>\n      <th>0</th>\n      <td>country</td>\n      <td>NaN</td>\n      <td>NaN</td>\n      <td>NaN</td>\n      <td>NaN</td>\n    </tr>\n    <tr>\n      <th>1</th>\n      <td>Finland</td>\n      <td>1980.0</td>\n      <td>23500.0</td>\n      <td>4780000.0</td>\n      <td>0.004916</td>\n    </tr>\n    <tr>\n      <th>2</th>\n      <td>Finland</td>\n      <td>1981.0</td>\n      <td>28300.0</td>\n      <td>4800000.0</td>\n      <td>0.005896</td>\n    </tr>\n    <tr>\n      <th>3</th>\n      <td>Japan</td>\n      <td>1981.0</td>\n      <td>13300.0</td>\n      <td>119000000.0</td>\n      <td>0.000112</td>\n    </tr>\n    <tr>\n      <th>4</th>\n      <td>Norway</td>\n      <td>1981.0</td>\n      <td>1670.0</td>\n      <td>4100000.0</td>\n      <td>0.000407</td>\n    </tr>\n  </tbody>\n</table>\n</div>",
       "datasetInfos": [],
       "metadata": {},
       "removedWidgets": [],
       "textData": null,
       "type": "htmlSandbox"
      }
     },
     "output_type": "display_data"
    }
   ],
   "source": [
    "%python\n",
    "merged_df['cell_phones_per_person'] = merged_df['cell_phones'] / merged_df['pop']\n",
    "merged_df.head()"
   ]
  },
  {
   "cell_type": "code",
   "execution_count": 0,
   "metadata": {
    "application/vnd.databricks.v1+cell": {
     "cellMetadata": {
      "byteLimit": 2048000,
      "rowLimit": 10000
     },
     "inputWidgets": {},
     "nuid": "d891e947-8687-41c4-ae89-5075ce9dd82f",
     "showTitle": false,
     "tableResultSettingsMap": {},
     "title": ""
    }
   },
   "outputs": [
    {
     "output_type": "display_data",
     "data": {
      "text/html": [
       "<div>\n",
       "<style scoped>\n",
       "    .dataframe tbody tr th:only-of-type {\n",
       "        vertical-align: middle;\n",
       "    }\n",
       "\n",
       "    .dataframe tbody tr th {\n",
       "        vertical-align: top;\n",
       "    }\n",
       "\n",
       "    .dataframe thead th {\n",
       "        text-align: right;\n",
       "    }\n",
       "</style>\n",
       "<table border=\"1\" class=\"dataframe\">\n",
       "  <thead>\n",
       "    <tr style=\"text-align: right;\">\n",
       "      <th></th>\n",
       "      <th>Year</th>\n",
       "      <th>cell_phones_per_person</th>\n",
       "    </tr>\n",
       "  </thead>\n",
       "  <tbody>\n",
       "    <tr>\n",
       "      <th>0</th>\n",
       "      <td>1980.0</td>\n",
       "      <td>0.004916</td>\n",
       "    </tr>\n",
       "    <tr>\n",
       "      <th>1</th>\n",
       "      <td>1981.0</td>\n",
       "      <td>0.002217</td>\n",
       "    </tr>\n",
       "    <tr>\n",
       "      <th>2</th>\n",
       "      <td>1982.0</td>\n",
       "      <td>0.002758</td>\n",
       "    </tr>\n",
       "    <tr>\n",
       "      <th>3</th>\n",
       "      <td>1983.0</td>\n",
       "      <td>0.004163</td>\n",
       "    </tr>\n",
       "    <tr>\n",
       "      <th>4</th>\n",
       "      <td>1984.0</td>\n",
       "      <td>0.004188</td>\n",
       "    </tr>\n",
       "  </tbody>\n",
       "</table>\n",
       "</div>"
      ]
     },
     "metadata": {
      "application/vnd.databricks.v1+output": {
       "addedWidgets": {},
       "arguments": {},
       "data": "<div>\n<style scoped>\n    .dataframe tbody tr th:only-of-type {\n        vertical-align: middle;\n    }\n\n    .dataframe tbody tr th {\n        vertical-align: top;\n    }\n\n    .dataframe thead th {\n        text-align: right;\n    }\n</style>\n<table border=\"1\" class=\"dataframe\">\n  <thead>\n    <tr style=\"text-align: right;\">\n      <th></th>\n      <th>Year</th>\n      <th>cell_phones_per_person</th>\n    </tr>\n  </thead>\n  <tbody>\n    <tr>\n      <th>0</th>\n      <td>1980.0</td>\n      <td>0.004916</td>\n    </tr>\n    <tr>\n      <th>1</th>\n      <td>1981.0</td>\n      <td>0.002217</td>\n    </tr>\n    <tr>\n      <th>2</th>\n      <td>1982.0</td>\n      <td>0.002758</td>\n    </tr>\n    <tr>\n      <th>3</th>\n      <td>1983.0</td>\n      <td>0.004163</td>\n    </tr>\n    <tr>\n      <th>4</th>\n      <td>1984.0</td>\n      <td>0.004188</td>\n    </tr>\n  </tbody>\n</table>\n</div>",
       "datasetInfos": [],
       "metadata": {},
       "removedWidgets": [],
       "textData": null,
       "type": "htmlSandbox"
      }
     },
     "output_type": "display_data"
    }
   ],
   "source": [
    "%python\n",
    "global_trend = merged_df.groupby('Year')['cell_phones_per_person'].mean().reset_index()\n",
    "global_trend.head()"
   ]
  },
  {
   "cell_type": "code",
   "execution_count": 0,
   "metadata": {
    "application/vnd.databricks.v1+cell": {
     "cellMetadata": {
      "byteLimit": 2048000,
      "rowLimit": 10000
     },
     "inputWidgets": {},
     "nuid": "d5e989dd-79b7-43bc-8eea-6f2ba639a717",
     "showTitle": false,
     "tableResultSettingsMap": {},
     "title": ""
    }
   },
   "outputs": [
    {
     "output_type": "display_data",
     "data": {
      "image/png": "[encoded data removed]"
     },
     "metadata": {
      "application/vnd.databricks.v1+output": {
       "addedWidgets": {},
       "arguments": {},
       "data": "data:image/png;base64,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\n",
       "datasetInfos": [],
       "metadata": {},
       "removedWidgets": [],
       "type": "image"
      }
     },
     "output_type": "display_data"
    }
   ],
   "source": [
    "%python\n",
    "plt.figure(figsize=(12, 6))\n",
    "sns.lineplot(data=global_trend, x='Year', y='cell_phones_per_person', marker='o', linestyle='-')\n",
    "plt.xlabel(\"Year\")\n",
    "plt.ylabel(\"Cell Phones Per Person\")\n",
    "plt.title(\"Rise of Cell Phones Over Time\")\n",
    "plt.grid(True)\n",
    "plt.show()"
   ]
  }
 ],
 "metadata": {
  "application/vnd.databricks.v1+notebook": {
   "computePreferences": null,
   "dashboards": [],
   "environmentMetadata": {
    "base_environment": "",
    "client": "1"
   },
   "language": "python",
   "notebookMetadata": {
    "mostRecentlyExecutedCommandWithImplicitDF": {
     "commandId": -1,
     "dataframes": [
      "_sqldf"
     ]
    },
    "pythonIndentUnit": 4
   },
   "notebookName": "task 4",
   "widgets": {}
  }
 },
 "nbformat": 4,
 "nbformat_minor": 0
}
