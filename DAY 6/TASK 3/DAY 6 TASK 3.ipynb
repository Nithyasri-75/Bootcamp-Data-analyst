{
 "cells": [
  {
   "cell_type": "code",
   "execution_count": 2,
   "id": "7bef8a1f-faa7-4c94-ba78-0c5b1fe5d1bc",
   "metadata": {},
   "outputs": [
    {
     "name": "stdout",
     "output_type": "stream",
     "text": [
      "Collecting selenium\n",
      "  Downloading selenium-4.29.0-py3-none-any.whl.metadata (7.1 kB)\n",
      "Requirement already satisfied: urllib3<3,>=1.26 in c:\\users\\nithy\\appdata\\roaming\\python\\python312\\site-packages (from urllib3[socks]<3,>=1.26->selenium) (2.1.0)\n",
      "Collecting trio~=0.17 (from selenium)\n",
      "  Downloading trio-0.29.0-py3-none-any.whl.metadata (8.5 kB)\n",
      "Collecting trio-websocket~=0.9 (from selenium)\n",
      "  Downloading trio_websocket-0.12.2-py3-none-any.whl.metadata (5.1 kB)\n",
      "Requirement already satisfied: certifi>=2021.10.8 in c:\\users\\nithy\\appdata\\roaming\\python\\python312\\site-packages (from selenium) (2023.11.17)\n",
      "Requirement already satisfied: typing_extensions~=4.9 in c:\\users\\nithy\\appdata\\roaming\\python\\python312\\site-packages (from selenium) (4.12.2)\n",
      "Collecting websocket-client~=1.8 (from selenium)\n",
      "  Downloading websocket_client-1.8.0-py3-none-any.whl.metadata (8.0 kB)\n",
      "Collecting attrs>=23.2.0 (from trio~=0.17->selenium)\n",
      "  Downloading attrs-25.1.0-py3-none-any.whl.metadata (10 kB)\n",
      "Requirement already satisfied: sortedcontainers in c:\\users\\nithy\\anaconda3\\lib\\site-packages (from trio~=0.17->selenium) (2.4.0)\n",
      "Requirement already satisfied: idna in c:\\users\\nithy\\appdata\\roaming\\python\\python312\\site-packages (from trio~=0.17->selenium) (3.6)\n",
      "Collecting outcome (from trio~=0.17->selenium)\n",
      "  Downloading outcome-1.3.0.post0-py2.py3-none-any.whl.metadata (2.6 kB)\n",
      "Requirement already satisfied: sniffio>=1.3.0 in c:\\users\\nithy\\appdata\\roaming\\python\\python312\\site-packages (from trio~=0.17->selenium) (1.3.0)\n",
      "Requirement already satisfied: cffi>=1.14 in c:\\users\\nithy\\appdata\\roaming\\python\\python312\\site-packages (from trio~=0.17->selenium) (1.16.0)\n",
      "Collecting wsproto>=0.14 (from trio-websocket~=0.9->selenium)\n",
      "  Downloading wsproto-1.2.0-py3-none-any.whl.metadata (5.6 kB)\n",
      "Requirement already satisfied: pysocks!=1.5.7,<2.0,>=1.5.6 in c:\\users\\nithy\\anaconda3\\lib\\site-packages (from urllib3[socks]<3,>=1.26->selenium) (1.7.1)\n",
      "Requirement already satisfied: pycparser in c:\\users\\nithy\\appdata\\roaming\\python\\python312\\site-packages (from cffi>=1.14->trio~=0.17->selenium) (2.21)\n",
      "Requirement already satisfied: h11<1,>=0.9.0 in c:\\users\\nithy\\anaconda3\\lib\\site-packages (from wsproto>=0.14->trio-websocket~=0.9->selenium) (0.14.0)\n",
      "Downloading selenium-4.29.0-py3-none-any.whl (9.5 MB)\n",
      "   ---------------------------------------- 0.0/9.5 MB ? eta -:--:--\n",
      "   ---------------------------------------- 0.0/9.5 MB ? eta -:--:--\n",
      "   ---------------------------------------- 0.0/9.5 MB ? eta -:--:--\n",
      "   - -------------------------------------- 0.3/9.5 MB ? eta -:--:--\n",
      "   - -------------------------------------- 0.3/9.5 MB ? eta -:--:--\n",
      "   - -------------------------------------- 0.3/9.5 MB ? eta -:--:--\n",
      "   -- ------------------------------------- 0.5/9.5 MB 479.2 kB/s eta 0:00:19\n",
      "   -- ------------------------------------- 0.5/9.5 MB 479.2 kB/s eta 0:00:19\n",
      "   --- ------------------------------------ 0.8/9.5 MB 524.3 kB/s eta 0:00:17\n",
      "   --- ------------------------------------ 0.8/9.5 MB 524.3 kB/s eta 0:00:17\n",
      "   ---- ----------------------------------- 1.0/9.5 MB 519.1 kB/s eta 0:00:17\n",
      "   ---- ----------------------------------- 1.0/9.5 MB 519.1 kB/s eta 0:00:17\n",
      "   ---- ----------------------------------- 1.0/9.5 MB 519.1 kB/s eta 0:00:17\n",
      "   ---- ----------------------------------- 1.0/9.5 MB 519.1 kB/s eta 0:00:17\n",
      "   ----- ---------------------------------- 1.3/9.5 MB 453.5 kB/s eta 0:00:19\n",
      "   ----- ---------------------------------- 1.3/9.5 MB 453.5 kB/s eta 0:00:19\n",
      "   ------ --------------------------------- 1.6/9.5 MB 453.5 kB/s eta 0:00:18\n",
      "   ------ --------------------------------- 1.6/9.5 MB 453.5 kB/s eta 0:00:18\n",
      "   ------ --------------------------------- 1.6/9.5 MB 453.5 kB/s eta 0:00:18\n",
      "   ------- -------------------------------- 1.8/9.5 MB 453.5 kB/s eta 0:00:17\n",
      "   ------- -------------------------------- 1.8/9.5 MB 453.5 kB/s eta 0:00:17\n",
      "   ------- -------------------------------- 1.8/9.5 MB 453.5 kB/s eta 0:00:17\n",
      "   -------- ------------------------------- 2.1/9.5 MB 455.2 kB/s eta 0:00:17\n",
      "   -------- ------------------------------- 2.1/9.5 MB 455.2 kB/s eta 0:00:17\n",
      "   -------- ------------------------------- 2.1/9.5 MB 455.2 kB/s eta 0:00:17\n",
      "   --------- ------------------------------ 2.4/9.5 MB 441.5 kB/s eta 0:00:17\n",
      "   --------- ------------------------------ 2.4/9.5 MB 441.5 kB/s eta 0:00:17\n",
      "   --------- ------------------------------ 2.4/9.5 MB 441.5 kB/s eta 0:00:17\n",
      "   ---------- ----------------------------- 2.6/9.5 MB 438.9 kB/s eta 0:00:16\n",
      "   ---------- ----------------------------- 2.6/9.5 MB 438.9 kB/s eta 0:00:16\n",
      "   ------------ --------------------------- 2.9/9.5 MB 446.2 kB/s eta 0:00:15\n",
      "   ------------ --------------------------- 2.9/9.5 MB 446.2 kB/s eta 0:00:15\n",
      "   ------------ --------------------------- 2.9/9.5 MB 446.2 kB/s eta 0:00:15\n",
      "   ------------- -------------------------- 3.1/9.5 MB 445.8 kB/s eta 0:00:15\n",
      "   ------------- -------------------------- 3.1/9.5 MB 445.8 kB/s eta 0:00:15\n",
      "   ------------- -------------------------- 3.1/9.5 MB 445.8 kB/s eta 0:00:15\n",
      "   -------------- ------------------------- 3.4/9.5 MB 448.4 kB/s eta 0:00:14\n",
      "   -------------- ------------------------- 3.4/9.5 MB 448.4 kB/s eta 0:00:14\n",
      "   --------------- ------------------------ 3.7/9.5 MB 446.9 kB/s eta 0:00:14\n",
      "   --------------- ------------------------ 3.7/9.5 MB 446.9 kB/s eta 0:00:14\n",
      "   --------------- ------------------------ 3.7/9.5 MB 446.9 kB/s eta 0:00:14\n",
      "   ---------------- ----------------------- 3.9/9.5 MB 445.7 kB/s eta 0:00:13\n",
      "   ---------------- ----------------------- 3.9/9.5 MB 445.7 kB/s eta 0:00:13\n",
      "   ---------------- ----------------------- 3.9/9.5 MB 445.7 kB/s eta 0:00:13\n",
      "   ----------------- ---------------------- 4.2/9.5 MB 442.3 kB/s eta 0:00:13\n",
      "   ----------------- ---------------------- 4.2/9.5 MB 442.3 kB/s eta 0:00:13\n",
      "   ----------------- ---------------------- 4.2/9.5 MB 442.3 kB/s eta 0:00:13\n",
      "   ------------------ --------------------- 4.5/9.5 MB 445.9 kB/s eta 0:00:12\n",
      "   ------------------ --------------------- 4.5/9.5 MB 445.9 kB/s eta 0:00:12\n",
      "   ------------------ --------------------- 4.5/9.5 MB 445.9 kB/s eta 0:00:12\n",
      "   ------------------ --------------------- 4.5/9.5 MB 445.9 kB/s eta 0:00:12\n",
      "   ------------------- -------------------- 4.7/9.5 MB 435.5 kB/s eta 0:00:12\n",
      "   ------------------- -------------------- 4.7/9.5 MB 435.5 kB/s eta 0:00:12\n",
      "   ------------------- -------------------- 4.7/9.5 MB 435.5 kB/s eta 0:00:12\n",
      "   -------------------- ------------------- 5.0/9.5 MB 430.8 kB/s eta 0:00:11\n",
      "   -------------------- ------------------- 5.0/9.5 MB 430.8 kB/s eta 0:00:11\n",
      "   -------------------- ------------------- 5.0/9.5 MB 430.8 kB/s eta 0:00:11\n",
      "   -------------------- ------------------- 5.0/9.5 MB 430.8 kB/s eta 0:00:11\n",
      "   --------------------- ------------------ 5.2/9.5 MB 423.9 kB/s eta 0:00:11\n",
      "   --------------------- ------------------ 5.2/9.5 MB 423.9 kB/s eta 0:00:11\n",
      "   --------------------- ------------------ 5.2/9.5 MB 423.9 kB/s eta 0:00:11\n",
      "   --------------------- ------------------ 5.2/9.5 MB 423.9 kB/s eta 0:00:11\n",
      "   --------------------- ------------------ 5.2/9.5 MB 423.9 kB/s eta 0:00:11\n",
      "   ----------------------- ---------------- 5.5/9.5 MB 402.8 kB/s eta 0:00:11\n",
      "   ----------------------- ---------------- 5.5/9.5 MB 402.8 kB/s eta 0:00:11\n",
      "   ----------------------- ---------------- 5.5/9.5 MB 402.8 kB/s eta 0:00:11\n",
      "   ----------------------- ---------------- 5.5/9.5 MB 402.8 kB/s eta 0:00:11\n",
      "   ----------------------- ---------------- 5.5/9.5 MB 402.8 kB/s eta 0:00:11\n",
      "   ------------------------ --------------- 5.8/9.5 MB 392.8 kB/s eta 0:00:10\n",
      "   ------------------------ --------------- 5.8/9.5 MB 392.8 kB/s eta 0:00:10\n",
      "   ------------------------ --------------- 5.8/9.5 MB 392.8 kB/s eta 0:00:10\n",
      "   ------------------------- -------------- 6.0/9.5 MB 391.8 kB/s eta 0:00:09\n",
      "   ------------------------- -------------- 6.0/9.5 MB 391.8 kB/s eta 0:00:09\n",
      "   ------------------------- -------------- 6.0/9.5 MB 391.8 kB/s eta 0:00:09\n",
      "   ------------------------- -------------- 6.0/9.5 MB 391.8 kB/s eta 0:00:09\n",
      "   -------------------------- ------------- 6.3/9.5 MB 390.2 kB/s eta 0:00:09\n",
      "   -------------------------- ------------- 6.3/9.5 MB 390.2 kB/s eta 0:00:09\n",
      "   -------------------------- ------------- 6.3/9.5 MB 390.2 kB/s eta 0:00:09\n",
      "   --------------------------- ------------ 6.6/9.5 MB 391.7 kB/s eta 0:00:08\n",
      "   --------------------------- ------------ 6.6/9.5 MB 391.7 kB/s eta 0:00:08\n",
      "   --------------------------- ------------ 6.6/9.5 MB 391.7 kB/s eta 0:00:08\n",
      "   ---------------------------- ----------- 6.8/9.5 MB 388.7 kB/s eta 0:00:07\n",
      "   ---------------------------- ----------- 6.8/9.5 MB 388.7 kB/s eta 0:00:07\n",
      "   ---------------------------- ----------- 6.8/9.5 MB 388.7 kB/s eta 0:00:07\n",
      "   ---------------------------- ----------- 6.8/9.5 MB 388.7 kB/s eta 0:00:07\n",
      "   ----------------------------- ---------- 7.1/9.5 MB 386.0 kB/s eta 0:00:07\n",
      "   ----------------------------- ---------- 7.1/9.5 MB 386.0 kB/s eta 0:00:07\n",
      "   ----------------------------- ---------- 7.1/9.5 MB 386.0 kB/s eta 0:00:07\n",
      "   ----------------------------- ---------- 7.1/9.5 MB 386.0 kB/s eta 0:00:07\n",
      "   ------------------------------ --------- 7.3/9.5 MB 381.3 kB/s eta 0:00:06\n",
      "   ------------------------------ --------- 7.3/9.5 MB 381.3 kB/s eta 0:00:06\n",
      "   ------------------------------ --------- 7.3/9.5 MB 381.3 kB/s eta 0:00:06\n",
      "   ------------------------------- -------- 7.6/9.5 MB 380.7 kB/s eta 0:00:06\n",
      "   ------------------------------- -------- 7.6/9.5 MB 380.7 kB/s eta 0:00:06\n",
      "   ------------------------------- -------- 7.6/9.5 MB 380.7 kB/s eta 0:00:06\n",
      "   ------------------------------- -------- 7.6/9.5 MB 380.7 kB/s eta 0:00:06\n",
      "   -------------------------------- ------- 7.9/9.5 MB 379.5 kB/s eta 0:00:05\n",
      "   -------------------------------- ------- 7.9/9.5 MB 379.5 kB/s eta 0:00:05\n",
      "   -------------------------------- ------- 7.9/9.5 MB 379.5 kB/s eta 0:00:05\n",
      "   -------------------------------- ------- 7.9/9.5 MB 379.5 kB/s eta 0:00:05\n",
      "   ---------------------------------- ----- 8.1/9.5 MB 376.7 kB/s eta 0:00:04\n",
      "   ---------------------------------- ----- 8.1/9.5 MB 376.7 kB/s eta 0:00:04\n",
      "   ---------------------------------- ----- 8.1/9.5 MB 376.7 kB/s eta 0:00:04\n",
      "   ---------------------------------- ----- 8.1/9.5 MB 376.7 kB/s eta 0:00:04\n",
      "   ----------------------------------- ---- 8.4/9.5 MB 373.1 kB/s eta 0:00:04\n",
      "   ----------------------------------- ---- 8.4/9.5 MB 373.1 kB/s eta 0:00:04\n",
      "   ----------------------------------- ---- 8.4/9.5 MB 373.1 kB/s eta 0:00:04\n",
      "   ----------------------------------- ---- 8.4/9.5 MB 373.1 kB/s eta 0:00:04\n",
      "   ----------------------------------- ---- 8.4/9.5 MB 373.1 kB/s eta 0:00:04\n",
      "   ------------------------------------ --- 8.7/9.5 MB 366.5 kB/s eta 0:00:03\n",
      "   ------------------------------------ --- 8.7/9.5 MB 366.5 kB/s eta 0:00:03\n",
      "   ------------------------------------ --- 8.7/9.5 MB 366.5 kB/s eta 0:00:03\n",
      "   ------------------------------------ --- 8.7/9.5 MB 366.5 kB/s eta 0:00:03\n",
      "   ------------------------------------ --- 8.7/9.5 MB 366.5 kB/s eta 0:00:03\n",
      "   ------------------------------------- -- 8.9/9.5 MB 361.2 kB/s eta 0:00:02\n",
      "   ------------------------------------- -- 8.9/9.5 MB 361.2 kB/s eta 0:00:02\n",
      "   ------------------------------------- -- 8.9/9.5 MB 361.2 kB/s eta 0:00:02\n",
      "   ------------------------------------- -- 8.9/9.5 MB 361.2 kB/s eta 0:00:02\n",
      "   ------------------------------------- -- 8.9/9.5 MB 361.2 kB/s eta 0:00:02\n",
      "   ------------------------------------- -- 8.9/9.5 MB 361.2 kB/s eta 0:00:02\n",
      "   -------------------------------------- - 9.2/9.5 MB 353.2 kB/s eta 0:00:02\n",
      "   -------------------------------------- - 9.2/9.5 MB 353.2 kB/s eta 0:00:02\n",
      "   -------------------------------------- - 9.2/9.5 MB 353.2 kB/s eta 0:00:02\n",
      "   -------------------------------------- - 9.2/9.5 MB 353.2 kB/s eta 0:00:02\n",
      "   -------------------------------------- - 9.2/9.5 MB 353.2 kB/s eta 0:00:02\n",
      "   -------------------------------------- - 9.2/9.5 MB 353.2 kB/s eta 0:00:02\n",
      "   ---------------------------------------  9.4/9.5 MB 345.0 kB/s eta 0:00:01\n",
      "   ---------------------------------------  9.4/9.5 MB 345.0 kB/s eta 0:00:01\n",
      "   ---------------------------------------  9.4/9.5 MB 345.0 kB/s eta 0:00:01\n",
      "   ---------------------------------------- 9.5/9.5 MB 342.5 kB/s eta 0:00:00\n",
      "Downloading trio-0.29.0-py3-none-any.whl (492 kB)\n",
      "Downloading trio_websocket-0.12.2-py3-none-any.whl (21 kB)\n",
      "Downloading websocket_client-1.8.0-py3-none-any.whl (58 kB)\n",
      "Downloading attrs-25.1.0-py3-none-any.whl (63 kB)\n",
      "Downloading outcome-1.3.0.post0-py2.py3-none-any.whl (10 kB)\n",
      "Downloading wsproto-1.2.0-py3-none-any.whl (24 kB)\n",
      "Installing collected packages: wsproto, websocket-client, attrs, outcome, trio, trio-websocket, selenium\n",
      "  Attempting uninstall: websocket-client\n",
      "    Found existing installation: websocket-client 1.7.0\n",
      "    Uninstalling websocket-client-1.7.0:\n",
      "      Successfully uninstalled websocket-client-1.7.0\n",
      "  Attempting uninstall: attrs\n",
      "    Found existing installation: attrs 23.1.0\n",
      "    Uninstalling attrs-23.1.0:\n",
      "      Successfully uninstalled attrs-23.1.0\n",
      "Successfully installed attrs-23.1.0 outcome-1.3.0.post0 selenium-4.29.0 trio-0.29.0 trio-websocket-0.12.2 websocket-client-1.8.0 wsproto-1.2.0\n"
     ]
    },
    {
     "name": "stderr",
     "output_type": "stream",
     "text": [
      "ERROR: pip's dependency resolver does not currently take into account all the packages that are installed. This behaviour is the source of the following dependency conflicts.\n",
      "langchain-community 0.0.11 requires langchain-core<0.2,>=0.1.8, but you have langchain-core 0.3.12 which is incompatible.\n",
      "langchain-community 0.0.11 requires langsmith<0.1.0,>=0.0.63, but you have langsmith 0.1.136 which is incompatible.\n"
     ]
    }
   ],
   "source": [
    "!pip install selenium"
   ]
  },
  {
   "cell_type": "code",
   "execution_count": 14,
   "id": "89f3b632-3840-4471-8f7c-11046e755fdc",
   "metadata": {},
   "outputs": [
    {
     "name": "stdout",
     "output_type": "stream",
     "text": [
      "Requirement already satisfied: bs4 in c:\\users\\nithy\\anaconda3\\lib\\site-packages (0.0.1)\n",
      "Requirement already satisfied: beautifulsoup4 in c:\\users\\nithy\\appdata\\roaming\\python\\python312\\site-packages (from bs4) (4.12.2)\n",
      "Requirement already satisfied: soupsieve>1.2 in c:\\users\\nithy\\appdata\\roaming\\python\\python312\\site-packages (from beautifulsoup4->bs4) (2.5)\n"
     ]
    }
   ],
   "source": [
    "!pip install bs4"
   ]
  },
  {
   "cell_type": "code",
   "execution_count": 16,
   "id": "2149cecc-50f6-4cc1-91d0-9beb4997dd9c",
   "metadata": {},
   "outputs": [
    {
     "name": "stdout",
     "output_type": "stream",
     "text": [
      "Requirement already satisfied: webdriver-manager in c:\\users\\nithy\\anaconda3\\lib\\site-packages (4.0.2)\n",
      "Requirement already satisfied: requests in c:\\users\\nithy\\appdata\\roaming\\python\\python312\\site-packages (from webdriver-manager) (2.31.0)\n",
      "Requirement already satisfied: python-dotenv in c:\\users\\nithy\\anaconda3\\lib\\site-packages (from webdriver-manager) (1.0.0)\n",
      "Requirement already satisfied: packaging in c:\\users\\nithy\\appdata\\roaming\\python\\python312\\site-packages (from webdriver-manager) (23.2)\n",
      "Requirement already satisfied: charset-normalizer<4,>=2 in c:\\users\\nithy\\appdata\\roaming\\python\\python312\\site-packages (from requests->webdriver-manager) (3.3.2)\n",
      "Requirement already satisfied: idna<4,>=2.5 in c:\\users\\nithy\\appdata\\roaming\\python\\python312\\site-packages (from requests->webdriver-manager) (3.6)\n",
      "Requirement already satisfied: urllib3<3,>=1.21.1 in c:\\users\\nithy\\appdata\\roaming\\python\\python312\\site-packages (from requests->webdriver-manager) (2.1.0)\n",
      "Requirement already satisfied: certifi>=2017.4.17 in c:\\users\\nithy\\appdata\\roaming\\python\\python312\\site-packages (from requests->webdriver-manager) (2023.11.17)\n"
     ]
    }
   ],
   "source": [
    "!pip install webdriver-manager"
   ]
  },
  {
   "cell_type": "code",
   "execution_count": 18,
   "id": "dc3fe17d-cb90-4f14-8717-efbb19645ef0",
   "metadata": {},
   "outputs": [],
   "source": [
    "import requests\n",
    "from bs4 import BeautifulSoup\n",
    "import pandas as pd\n",
    "import os\n",
    "from IPython.display import display"
   ]
  },
  {
   "cell_type": "code",
   "execution_count": 20,
   "id": "a434bbd5-18eb-4a5c-a26f-665a5577f5c8",
   "metadata": {},
   "outputs": [],
   "source": [
    "url = \"https://www.espncricinfo.com/series/indian-premier-league-2022-1298423/gujarat-titans-vs-rajasthan-royals-final-1312200/ball-by-ball-commentary\"\n",
    "headers = {\"User-Agent\": \"Mozilla/5.0\"}\n",
    "response = requests.get(url, headers=headers)"
   ]
  },
  {
   "cell_type": "code",
   "execution_count": 22,
   "id": "9a0f932a-1b23-48a2-b714-3459f3039140",
   "metadata": {},
   "outputs": [
    {
     "name": "stdout",
     "output_type": "stream",
     "text": [
      "✅ Successfully retrieved the webpage!\n"
     ]
    }
   ],
   "source": [
    "if response.status_code != 200:\n",
    "    print(f\"❌ Failed to retrieve data. Status code: {response.status_code}\")\n",
    "else:\n",
    "    print(\"✅ Successfully retrieved the webpage!\")"
   ]
  },
  {
   "cell_type": "code",
   "execution_count": 24,
   "id": "ccdbcb32-a0ba-487d-a904-59a66eb6f571",
   "metadata": {},
   "outputs": [],
   "source": [
    "    soup = BeautifulSoup(response.text, \"html.parser\")\n",
    "    commentary_divs = soup.find_all(\"div\", class_=\"ds-text-tight-m\")\n",
    "    data = []\n",
    "    match_name = \"Gujarat Titans vs Rajasthan Royals - Final\"\n",
    "    match_winner = \"Gujarat Titans\"\n",
    "    team1_score = \"133/3\"\n",
    "    team2_score = \"130/9\"\n",
    "    match_venue = \"Narendra Modi Stadium, Ahmedabad\"\n",
    "    match_date = \"May 29, 2022\""
   ]
  },
  {
   "cell_type": "code",
   "execution_count": 26,
   "id": "7ae691c1-e1c7-415c-9c74-0079332dc4a5",
   "metadata": {},
   "outputs": [],
   "source": [
    "    for comment in commentary_divs:\n",
    "        text = comment.get_text(strip=True)\n",
    "        if \".\" in text[:4]:  \n",
    "            ball_no = text.split()[0]\n",
    "            over, ball = ball_no.split(\".\")\n",
    "            details = text.split(\",\")\n",
    "            bowler_batter = details[0].split(\"to\")\n",
    "            if len(bowler_batter) == 2:\n",
    "                bowler_name = bowler_batter[0].strip()\n",
    "                batter_name = bowler_batter[1].strip()\n",
    "            else:\n",
    "                continue  \n",
    "            if \"SIX\" in text:\n",
    "                shot_type = \"boundary\"\n",
    "                runs_scored = 6\n",
    "            elif \"FOUR\" in text:\n",
    "                shot_type = \"boundary\"\n",
    "                runs_scored = 4\n",
    "            elif \"1 run\" in text:\n",
    "                shot_type = \"single\"\n",
    "                runs_scored = 1\n",
    "            elif \"2 runs\" in text:\n",
    "                shot_type = \"double\"\n",
    "                runs_scored = 2\n",
    "            elif \"3 runs\" in text:\n",
    "                shot_type = \"triple\"\n",
    "                runs_scored = 3\n",
    "            elif \"no run\" in text:\n",
    "                shot_type = \"dot\"\n",
    "                runs_scored = 0\n",
    "            else:\n",
    "                shot_type = \"other\"\n",
    "                runs_scored = \"unknown\"\n",
    "            ball_type = \"Unknown\"\n",
    "            speed = \"N/A\""
   ]
  },
  {
   "cell_type": "code",
   "execution_count": 28,
   "id": "5709d916-e36c-4e6f-bacb-5e8f38be4ab3",
   "metadata": {},
   "outputs": [],
   "source": [
    "            data.append([\n",
    "                ball_no, over, bowler_name, batter_name, ball_type, shot_type, speed, runs_scored,\n",
    "                match_name, match_winner, team1_score, team2_score, match_venue, match_date\n",
    "            ])"
   ]
  },
  {
   "cell_type": "code",
   "execution_count": 30,
   "id": "d801fcf3-732e-4b0b-8861-4dbd02d00fa4",
   "metadata": {},
   "outputs": [],
   "source": [
    "    columns = [\n",
    "        \"Ball No\", \"Over\", \"Bowler Name\", \"Batter Name\", \"Ball Type\",\n",
    "        \"Shot Type\", \"Speed of Ball\", \"Runs Scored\", \"Match Name\",\n",
    "        \"Match Won By\", \"Team 1 Score\", \"Team 2 Score\", \"Match Venue\", \"Match Date\"\n",
    "    ]"
   ]
  },
  {
   "cell_type": "code",
   "execution_count": 32,
   "id": "8d17eca5-bb71-4fda-a1e4-22111c170386",
   "metadata": {},
   "outputs": [
    {
     "data": {
      "text/html": [
       "<div>\n",
       "<style scoped>\n",
       "    .dataframe tbody tr th:only-of-type {\n",
       "        vertical-align: middle;\n",
       "    }\n",
       "\n",
       "    .dataframe tbody tr th {\n",
       "        vertical-align: top;\n",
       "    }\n",
       "\n",
       "    .dataframe thead th {\n",
       "        text-align: right;\n",
       "    }\n",
       "</style>\n",
       "<table border=\"1\" class=\"dataframe\">\n",
       "  <thead>\n",
       "    <tr style=\"text-align: right;\">\n",
       "      <th></th>\n",
       "      <th>Ball No</th>\n",
       "      <th>Over</th>\n",
       "      <th>Bowler Name</th>\n",
       "      <th>Batter Name</th>\n",
       "      <th>Ball Type</th>\n",
       "      <th>Shot Type</th>\n",
       "      <th>Speed of Ball</th>\n",
       "      <th>Runs Scored</th>\n",
       "      <th>Match Name</th>\n",
       "      <th>Match Won By</th>\n",
       "      <th>Team 1 Score</th>\n",
       "      <th>Team 2 Score</th>\n",
       "      <th>Match Venue</th>\n",
       "      <th>Match Date</th>\n",
       "    </tr>\n",
       "  </thead>\n",
       "  <tbody>\n",
       "    <tr>\n",
       "      <th>0</th>\n",
       "      <td>15.12Ashwin</td>\n",
       "      <td>15</td>\n",
       "      <td>15.12Ashwin</td>\n",
       "      <td>Gill</td>\n",
       "      <td>Unknown</td>\n",
       "      <td>double</td>\n",
       "      <td>N/A</td>\n",
       "      <td>2</td>\n",
       "      <td>Gujarat Titans vs Rajasthan Royals - Final</td>\n",
       "      <td>Gujarat Titans</td>\n",
       "      <td>133/3</td>\n",
       "      <td>130/9</td>\n",
       "      <td>Narendra Modi Stadium, Ahmedabad</td>\n",
       "      <td>May 29, 2022</td>\n",
       "    </tr>\n",
       "  </tbody>\n",
       "</table>\n",
       "</div>"
      ],
      "text/plain": [
       "       Ball No Over  Bowler Name Batter Name Ball Type Shot Type  \\\n",
       "0  15.12Ashwin   15  15.12Ashwin        Gill   Unknown    double   \n",
       "\n",
       "  Speed of Ball  Runs Scored                                  Match Name  \\\n",
       "0           N/A            2  Gujarat Titans vs Rajasthan Royals - Final   \n",
       "\n",
       "     Match Won By Team 1 Score Team 2 Score                       Match Venue  \\\n",
       "0  Gujarat Titans        133/3        130/9  Narendra Modi Stadium, Ahmedabad   \n",
       "\n",
       "     Match Date  \n",
       "0  May 29, 2022  "
      ]
     },
     "metadata": {},
     "output_type": "display_data"
    }
   ],
   "source": [
    "    df = pd.DataFrame(data, columns=columns)\n",
    "    display(df.head())"
   ]
  },
  {
   "cell_type": "code",
   "execution_count": 38,
   "id": "8c7f24ad-8155-48aa-a72c-b05647e30b09",
   "metadata": {},
   "outputs": [
    {
     "name": "stdout",
     "output_type": "stream",
     "text": [
      "✅ Data saved successfully at: C:\\Users\\nithy\\DAY_6_TASK_3.csv\n"
     ]
    }
   ],
   "source": [
    "file_name = \"DAY_6_TASK_3.csv\"\n",
    "df.to_csv(file_name, index=False)\n",
    "file_path = os.path.abspath(file_name)\n",
    "print(f\"✅ Data saved successfully at: {file_path}\")"
   ]
  },
  {
   "cell_type": "code",
   "execution_count": null,
   "id": "56f058b1-b8d0-4da1-b20c-b9e03b51c210",
   "metadata": {},
   "outputs": [],
   "source": []
  }
 ],
 "metadata": {
  "kernelspec": {
   "display_name": "Python 3 (ipykernel)",
   "language": "python",
   "name": "python3"
  },
  "language_info": {
   "codemirror_mode": {
    "name": "ipython",
    "version": 3
   },
   "file_extension": ".py",
   "mimetype": "text/x-python",
   "name": "python",
   "nbconvert_exporter": "python",
   "pygments_lexer": "ipython3",
   "version": "3.12.4"
  }
 },
 "nbformat": 4,
 "nbformat_minor": 5
}
